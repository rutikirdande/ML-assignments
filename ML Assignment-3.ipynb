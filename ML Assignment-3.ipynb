{
 "cells": [
  {
   "cell_type": "code",
   "execution_count": 1,
   "id": "4ff5a4e9",
   "metadata": {},
   "outputs": [],
   "source": [
    "# 1.Explain the term machine learning, and how does it work? Explain two machine learning\n",
    "# applications in the business world. What are some of the ethical concerns that machine learning\n",
    "# applications could raise?\n",
    "# ANS-->\n",
    "# Machine Learning is an AI technique that teaches computers to learn from experience.\n",
    "# Machine learning is a form of artificial intelligence (AI) that teaches computers to think in a similar way to how humans do:\n",
    "# Learning and improving upon past experiences.\n",
    "\n",
    "\n",
    "# 1. Best Machine Learning Applications in Businesses. Machine learning offers a wide range of applications, from forecasting customer behaviour to developing the operating system for self-driving vehicles.\n",
    "# Machine learning may help businesses better understand their customers regarding benefits.\n",
    "\n",
    "# 2. Image recognition is one of the most common applications of machine learning. It is used to identify objects, persons, places, digital images, etc. The popular use case of image recognition and face detection is,\n",
    "# Automatic friend tagging suggestion: Facebook provides us a feature of auto friend tagging suggestion.\n",
    "    \n",
    "    \n",
    "\n",
    "# General ethical issues in Machine Learning\n",
    "# .1Accuracy\n",
    "# .2Bias\n",
    "# .3Fairness\n",
    "# .4Safety & Security\n",
    "# .5Privacy\n",
    "# .6Transparency\n",
    "# .7Accountability\n",
    "# .8Human Control and Decision-making\n",
    "# .9Environmental Impact & Sustainability"
   ]
  },
  {
   "cell_type": "code",
   "execution_count": 2,
   "id": "49f3e224",
   "metadata": {},
   "outputs": [],
   "source": [
    "# 2. Describe the process of human learning:\n",
    "# i. Under the supervision of experts\n",
    "\n",
    "# ii. With the assistance of experts in an indirect manner\n",
    "\n",
    "# iii. Self-education\n",
    "# ANS-->\n",
    "# There are three general types of machine learning: supervised, unsupervised, and reinforcement learning. Human-guided machine learning is a type of supervised learning, which uses a set of human-labeled training data to develop a model. In supervised learning, the algorithm learns a set of inputs along with corresponding correct outputs. The training data used to create a machine learning model is assumed to be ground truth, meaning that its validity is not questioned–however, the model must still be tested for accuracy before it can be deployed. There are also subsets of supervised learning known as active learning, or semi-supervised learning, where the machine learning model is improved with each additional correction or piece of information collected. This is where humans come in.\n",
    "\n",
    "# Human-guided machine learning is a process whereby subject matter experts accelerate the learning process by teaching the technology in real-time. For example, if the machine learning model comes across a piece of data it is uncertain about, a human can be asked to weigh in and give feedback. The model then learns from this input, and uses it to make a more accurate prediction the next time. Human-guided machine learning works from the bottom up by first using algorithms to conduct the heavy lifting of identifying relationships within the data, and engaging humans when necessary for training or validation. This means that, inevitably, the amount of time a human needs to spend performing a specific task will decrease as the machine learning accuracy increases.\n",
    "\n",
    "# This is important, mainly because of the sheer volume and variety of datasets that enterprises are tasked with managing today. Given the right solution, mastering large, diverse datasets through machine learning is significantly easier than creating and managing a network of custom rules and formulas. And, with human-guided machine learning, technical or data science knowledge isn’t even required. All that’s needed are subject matter experts who know the ins and outs of your data, and can tell the model whether, in fact, two similar names in your database are actually the same customer."
   ]
  },
  {
   "cell_type": "code",
   "execution_count": 3,
   "id": "fb6c1c99",
   "metadata": {},
   "outputs": [],
   "source": [
    "# 3. Provide a few examples of various types of machine learning.\n",
    "# ANS-->\n",
    "# 1. Supervised Machine Learning ·\n",
    "# 2. Unsupervised Machine Learning · \n",
    "# 3. Semi-Supervised Learning ·\n",
    "# 4. Reinforcement Learning."
   ]
  },
  {
   "cell_type": "code",
   "execution_count": 4,
   "id": "71eef79e",
   "metadata": {},
   "outputs": [],
   "source": [
    "# 4. Examine the various forms of machine learning.\n",
    "# ANS-->\n",
    "# The three machine learning types are supervised, unsupervised, and reinforcement learning."
   ]
  },
  {
   "cell_type": "code",
   "execution_count": 5,
   "id": "18a1f3c0",
   "metadata": {},
   "outputs": [],
   "source": [
    "# 5. Can you explain what a well-posed learning problem is? Explain the main characteristics that must\n",
    "# be present to identify a learning problem properly.\n",
    "# ANS-->\n",
    "# A Well posed problem is a problem whose solution exists,\n",
    "# is unique and the solution depends on data and is not sensitive to small changes in data.\n",
    "# Well posed learning problems · 1. To better filter emails as spam or not · \n",
    "# 2. A checkers learning problem ·\n",
    "# 3. Handwriting Recognition Problem "
   ]
  },
  {
   "cell_type": "code",
   "execution_count": 6,
   "id": "67fd6702",
   "metadata": {},
   "outputs": [],
   "source": [
    "# 6. Is machine learning capable of solving all problems? Give a detailed explanation of your answer.\n",
    "# ANS-->\n",
    "# However, it is important to understand that machine learning is not the answer to all problems. Given the usefulness of machine learning, it can be hard to accept that sometimes it is not the best solution to a problem.\n",
    "# ML programs use the discovered data to improve the process as more calculations are made. Thus machines can learn to perform time-intensive documentation and data entry tasks. Also, knowledge workers can now spend more\n",
    "# time on higher-value problem-solving tasks"
   ]
  },
  {
   "cell_type": "code",
   "execution_count": 7,
   "id": "0cd65716",
   "metadata": {},
   "outputs": [],
   "source": [
    "# 7. What are the various methods and technologies for solving machine learning problems? Any two\n",
    "# of them should be defined in detail.\n",
    "# ANS-->\n",
    "# Machine learning uses two techniques: supervised learning, \n",
    "# which trains a model on known input and output data to predict future outputs,\n",
    "# and unsupervised learning, which uses hidden patterns or internal structures in the input data."
   ]
  },
  {
   "cell_type": "code",
   "execution_count": 8,
   "id": "a1e2653f",
   "metadata": {},
   "outputs": [],
   "source": [
    "# 8. Can you explain the various forms of supervised learning? Explain each one with an example\n",
    "# application.\n",
    "# ANS-->\n",
    "# 1. Regression · \n",
    "# 2. Classification ·\n",
    "# 3. Naive Bayesian Model ·\n",
    "# 4. Random Forest Model.\n",
    "# 5. Neral Network .\n",
    "# 6. Support Vector Machine .\n",
    "# In regression, a single output value is produced using training data. This value is a probabilistic interpretation, which is ascertained after considering the strength of correlation among the input variables. For example, regression can help predict the price of a house based on its locality, size, etc. \n",
    "\n",
    "# In logistic regression, the output has discrete values based on a set of independent variables. This method can flounder when dealing with non-linear and multiple decision boundaries. Also, it is not flexible enough to capture complex relationships in datasets."
   ]
  },
  {
   "cell_type": "code",
   "execution_count": 10,
   "id": "80833460",
   "metadata": {},
   "outputs": [],
   "source": [
    "# 9. What is the difference between supervised and unsupervised learning? With a sample application\n",
    "# in each region, explain the differences.\n",
    "# ANS-->\n",
    "# 1. supervised machine learning techniques.\n",
    "# -Algorithms are trained using labeled data.\n",
    "# -Supervised learning is a simpler method.\n",
    "# -Highly accurate and trustworthy method.\n",
    "\n",
    "# 2. unsupervised machine learning techniques.\n",
    "# -Algorithms are used against data which is not labelled\n",
    "# -Unsupervised learning is computationally complex\n",
    "# -Less accurate and trustworthy method."
   ]
  },
  {
   "cell_type": "code",
   "execution_count": 12,
   "id": "65996f17",
   "metadata": {},
   "outputs": [],
   "source": [
    "# 10. Describe the machine learning process in depth.\n",
    "# ANS-->\n",
    "# Machine learning is the process of making systems that learn and improve by themselves, by being specifically programmed. \n",
    "\n",
    "# The ultimate goal of machine learning is to design algorithms that automatically help a system gather data and use that data to learn more. Systems are expected to look for patterns in the data collected and use them to make vital decisions for themselves.\n",
    "\n",
    "# In general, machine learning is getting systems to think and act like humans, show human-like intelligence, and give them a brain. In the real world, there are existing machine learning models capable of tasks like :\n",
    "\n",
    "# Separating spam from actual emails, as seen in Gmail\n",
    "# Correcting grammar and spelling mistakes, as seen in autocorrect \n",
    "# Thanks to machine learning, the world has also seen design systems capable of exhibiting uncanny human-like thinking, which performs tasks like: \n",
    "\n",
    "# Object and image recognition\n",
    "# Detecting fake news\n",
    "# Understanding written or spoken words\n",
    "# Bots on websites that interact with humans, like humans\n",
    "# Self-driven cars      \n",
    "\n",
    "# a. Make brief notes on any two of the following:\n",
    "# iii. Study of the market basket\n",
    "# ANS-->\n",
    "# Market basket analysis is a data mining technique used by retailers to increase sales by better understanding customer purchasing patterns. It involves analyzing large data sets, such as purchase history, to reveal product groupings, as well as products that are likely to be purchased together.\n",
    "\n",
    "# The adoption of market basket analysis was aided by the advent of electronic point-of-sale (POS) systems. Compared to handwritten records kept by store owners, the digital records generated by POS systems made it easier for applications to process and analyze large volumes of purchase data.\n",
    "\n",
    "# Implementation of market basket analysis requires a background in statistics and data science, as well as some algorithmic computer programming skills. For those without the needed technical skills, commercial, off-the-shelf tools exist.\n",
    "\n",
    "# Types of market basket analysis\n",
    "# Retailers should understand the following types of market basket analysis:\n",
    "\n",
    "# Predictive market basket analysis. This type considers items purchased in sequence to determine cross-sell.\n",
    "# Differential market basket analysis. This type considers data across different stores, as well as purchases from different customer groups during different times of the day, month or year. If a rule holds in one dimension, such as store, time period or customer group, but does not hold in the others, \n",
    "# analysts can determine the factors responsible for the exception. These insights can lead to new product offers that drive higher sales.\n",
    "    \n",
    "# iv. Linear regression (simple)   \n",
    "# Linear regression is a powerful statistical method often used to study the linear relation between two or more variables. It can be seen as a descriptive method, in which case we are interested in exploring the linear relation between variables without any intent at extrapolating our findings beyond the sample data.\n",
    "# It can also be seen as an inferential method, in which case we intend to extrapolate our findings from a sample data by making a sweeping general statements about a population of interest. Inference statistics is tricky and requires some understanding of probability theory.\n",
    "    \n"
   ]
  },
  {
   "cell_type": "code",
   "execution_count": 13,
   "id": "0dc1c6b2",
   "metadata": {},
   "outputs": [],
   "source": [
    "# 11. Make a comparison between:-\n",
    "\n",
    "# 1. Generalization and abstraction\n",
    "\n",
    "# 2. Learning that is guided and unsupervised\n",
    "\n",
    "# 3. Regression and classification\n",
    "# ANS-->\n",
    "# Abstraction is the skill of understanding the world by thinking about the characteristics that things possess rather than those things themselves. Generalization is the application of abstract characteristics to an entire class of things. \n",
    "# Generalization allows us to make broad claims about the natural world.\n",
    "# \"All pretty girls are female.\" is an abstraction. \n",
    "# \"All pretty girls put on make-up.\" is a generalization.\n",
    "\n",
    "\n",
    "# Supervised and unsupervised learning are examples of two different types of machine learning model approach.\n",
    "# They differ in the way the models are trained and the condition of the training data that’s required.\n",
    "# Each approach has different strengths, so the task or problem faced by a supervised vs unsupervised learning model will usually be different.  \n",
    "\n",
    "\n",
    "\n",
    "# The main difference between Regression and Classification algorithms that Regression algorithms are used to predict the continuous values such as price, salary, age, etc.\n",
    "# and Classification algorithms are used to predict/Classify the discrete values such as Male or Female, True or False, Spam or Not Spam, etc."
   ]
  }
 ],
 "metadata": {
  "kernelspec": {
   "display_name": "Python 3 (ipykernel)",
   "language": "python",
   "name": "python3"
  },
  "language_info": {
   "codemirror_mode": {
    "name": "ipython",
    "version": 3
   },
   "file_extension": ".py",
   "mimetype": "text/x-python",
   "name": "python",
   "nbconvert_exporter": "python",
   "pygments_lexer": "ipython3",
   "version": "3.9.13"
  }
 },
 "nbformat": 4,
 "nbformat_minor": 5
}
