{
 "cells": [
  {
   "cell_type": "code",
   "execution_count": 2,
   "id": "883be965",
   "metadata": {},
   "outputs": [],
   "source": [
    "# 1. What is the concept of human learning? Please give two examples.\n",
    "# ANS-->\n",
    "# Mnay example of this case are found in case of human learning.\n",
    "# Learning to drive a motor-car, typewriting, singing or memorizing a poem or a mathematical table, and music etc. \n",
    "# need exercise and repetition of various movements and actions many times."
   ]
  },
  {
   "cell_type": "code",
   "execution_count": 3,
   "id": "263a6e9d",
   "metadata": {},
   "outputs": [],
   "source": [
    "# 2. What different forms of human learning are there? Are there any machine learning equivalents?\n",
    "# ANS-->\n",
    "# There are three general types of machine learning: supervised, unsupervised, and reinforcement learning. \n",
    "# Human-guided machine learning is a type of supervised learning, which uses a set of human-labeled training data to develop a model."
   ]
  },
  {
   "cell_type": "code",
   "execution_count": 5,
   "id": "3679eccd",
   "metadata": {},
   "outputs": [],
   "source": [
    "# 3. What is machine learning, and how does it work? What are the key responsibilities of machine\n",
    "# learning?\n",
    "# ANS-->\n",
    "# Machine learning is a form of artificial intelligence (AI) that teaches computers to think in a similar way to how humans do: Learning and improving upon past experiences.\n",
    "# It works by exploring data and identifying patterns, and involves minimal human intervention.\n",
    "# 1. Designing ML systems.\n",
    "# 2. Researching and implementing ML algorithms and tools.\n",
    "# 3. Selecting appropriate datasets.\n",
    "# 4. Picking appropriate data representation methods.\n",
    "# 5. Identifying differeces in data distribution that affects model performance.\n",
    "# 6. Verifying data quality."
   ]
  },
  {
   "cell_type": "code",
   "execution_count": 7,
   "id": "05af7f11",
   "metadata": {},
   "outputs": [],
   "source": [
    "# 4. Define the terms \"penalty\" and \"reward\" in the context of reinforcement learning.\n",
    "# ANS-->\n",
    "# Reinforcement learning is all about gamifying the learning process. \n",
    "# This type of machine learning uses a reward-penalty method to teach an AI system. \n",
    "# If it makes the right move, it gets rewarded. If it makes a mistake, it receives a penalty."
   ]
  },
  {
   "cell_type": "code",
   "execution_count": 9,
   "id": "86575f04",
   "metadata": {},
   "outputs": [],
   "source": [
    "# 5. Explain the term \"learning as a search\"?\n",
    "# ANS-->\n",
    "# Concept learning can be viewed as the task of searching through a large space of hypotheses implicitly defined by the hypothesis representation.\n",
    "# The goal of this search is to find the hypothesis that best fits the training examples."
   ]
  },
  {
   "cell_type": "code",
   "execution_count": 10,
   "id": "6aa3dc34",
   "metadata": {},
   "outputs": [],
   "source": [
    "# 6. What are the various goals of machine learning? What is the relationship between these and\n",
    "# human learning?\n",
    "# ANS-->\n",
    "# The Goals of Machine Learning.\n",
    "# The goal of ML, in simples words, is to understand the nature of (human and other forms of) learning, and to build learning capability in computers. To be more specific, there are three aspects of the goals\n",
    "# of ML.\n",
    "# (1) To make the computers smarter, more intelligent. The more direct objective in this aspect is to\n",
    "# develop systems (programs) for specific practical learning tasks in application domains.\n",
    "# (2) To dev elop computational models of human learning process and perform computer simulations.\n",
    "# The study in this aspect is also called cognitive modeling.\n",
    "# (3) To explore new learning methods and develop general learning algorithms independent of applications.\n",
    "\n",
    "\n",
    "# Humans acquire knowledge through experience either directly or shared by others.\n",
    "# Machines acquire knowledge through experience shared in the form of past data."
   ]
  },
  {
   "cell_type": "code",
   "execution_count": 11,
   "id": "8a87b472",
   "metadata": {},
   "outputs": [],
   "source": [
    "# 7. Illustrate the various elements of machine learning using a real-life illustration.\n",
    "# ANS-->\n",
    "# Image recognition is a well-known and widespread example of machine learning in the real world. \n",
    "# It can identify an object as a digital image, based on the intensity of the pixels in black and white images or colour images. \n",
    "# Real-world examples of image recognition: Label an x-ray as cancerous or not."
   ]
  },
  {
   "cell_type": "code",
   "execution_count": 12,
   "id": "8be8b3a4",
   "metadata": {},
   "outputs": [],
   "source": [
    "# 8. Provide an example of the abstraction method.\n",
    "# ANS-->\n",
    "# Another real life example of Abstraction is ATM Machine; All are performing operations on the ATM machine like \n",
    "# cash withdrawal, money transfer, retrieve mini-statement…etc. but we can't know internal details about ATM.\n",
    "# Note: Data abstraction can be used to provide security for the data from the unauthorized methods"
   ]
  },
  {
   "cell_type": "code",
   "execution_count": 13,
   "id": "61b3eb10",
   "metadata": {},
   "outputs": [],
   "source": [
    "# 9. What is the concept of generalization? What function does it play in the machine learning\n",
    "# process?\n",
    "# ANS-->\n",
    "# Generalization refers to your model's ability to adapt properly to new, previously unseen data, drawn from the same distribution as the one used to create the model.\n",
    "# Develop intuition about overfitting. Determine whether a model is good or not. Divide a data set into a training set and a test set."
   ]
  },
  {
   "cell_type": "code",
   "execution_count": 14,
   "id": "80cf2895",
   "metadata": {},
   "outputs": [],
   "source": [
    "# 10. What is classification, exactly? What are the main distinctions between classification and regression?\n",
    "# ANS-->\n",
    "# The most significant difference between regression vs classification is that while regression helps predict a continuous quantity, \n",
    "# classification predicts discrete class labels.\n",
    "# Classification tries to find the decision boundary, which divides the dataset into different classes."
   ]
  },
  {
   "cell_type": "code",
   "execution_count": 15,
   "id": "e66875db",
   "metadata": {},
   "outputs": [],
   "source": [
    "# 11. What is regression, and how does it work? Give an example of a real-world problem that was\n",
    "# solved using regression.\n",
    "# ANS-->\n",
    "# Medical researchers often use linear regression to understand the relationship between drug dosage and blood pressure of patients. \n",
    "# For example, researchers might administer various dosages of a certain drug to patients and observe how their blood pressure responds."
   ]
  },
  {
   "cell_type": "code",
   "execution_count": 16,
   "id": "822e8180",
   "metadata": {},
   "outputs": [],
   "source": [
    "# 12. Describe the clustering mechanism in detail.\n",
    "# ANS-->\n",
    "# Clustering is the task of dividing the unlabeled data or data points into different clusters such that similar data points fall in the\n",
    "# same cluster than those which differ from the others. In simple words, the aim of the clustering process is to segregate groups with similar traits and assign them into clusters"
   ]
  },
  {
   "cell_type": "code",
   "execution_count": 17,
   "id": "d3458866",
   "metadata": {},
   "outputs": [],
   "source": [
    "# 13. Make brief observations on two of the following topics:\n",
    "# i. Machine learning algorithms are used\n",
    "# ii. Studying under supervision\n",
    "# ANS-->\n",
    "# 1.\n",
    "# Machine Learning algorithms are the programs that can learn the hidden patterns from the data, predict the output,\n",
    "# and improve the performance from experiences on their own.\n",
    "# Different algorithms can be used in machine learning for different tasks, such as simple linear regression that can be used for prediction problems like stock market prediction, \n",
    "# and the KNN algorithm can be used for classification problems.\n",
    "\n",
    "\n",
    "\n",
    "# Types of Machine Learning Algorithms\n",
    "# Machine Learning Algorithm can be broadly classified into three types:\n",
    "\n",
    "# Supervised Learning Algorithms\n",
    "# Unsupervised Learning Algorithms\n",
    "# Reinforcement Learning algorithm\n",
    "\n",
    "\n",
    "# 2.\n",
    "# Supervised learning, also known as supervised machine learning, is a subcategory of machine learning and artificial intelligence. \n",
    "# It is defined by its use of labeled datasets to train algorithms that to classify data or predict outcomes accurately\n",
    "# What is an example of supervised learning?\n",
    "# Example 1: We may use supervised learning to predict house prices. Data having details about the size of the house, price, the number of rooms in the house, garden and other features are needed.\n",
    "# We need data about various parameters of the house for thousands of houses and it is then used to train the data"
   ]
  }
 ],
 "metadata": {
  "kernelspec": {
   "display_name": "Python 3 (ipykernel)",
   "language": "python",
   "name": "python3"
  },
  "language_info": {
   "codemirror_mode": {
    "name": "ipython",
    "version": 3
   },
   "file_extension": ".py",
   "mimetype": "text/x-python",
   "name": "python",
   "nbconvert_exporter": "python",
   "pygments_lexer": "ipython3",
   "version": "3.9.13"
  }
 },
 "nbformat": 4,
 "nbformat_minor": 5
}
