{
 "cells": [
  {
   "cell_type": "code",
   "execution_count": 1,
   "id": "03431cea",
   "metadata": {},
   "outputs": [],
   "source": [
    "# 1. What are the key tasks involved in getting ready to work with machine learning modeling?\n",
    "# ANS-->\n",
    "# Collecting Data: As you know, machines initially learn from the data that you give them. ...\n",
    "# Preparing the Data: After you have your data, you have to prepare it. ...\n",
    "# Choosing a Model: \n",
    "# Training the Model: \n",
    "# Evaluating the Model: \n",
    "# Parameter Tuning:\n",
    "# Making Predictions."
   ]
  },
  {
   "cell_type": "code",
   "execution_count": 2,
   "id": "4d6529fd",
   "metadata": {},
   "outputs": [],
   "source": [
    "# 2. What are the different forms of data used in machine learning? Give a specific example for each of\n",
    "# them.\n",
    "# ANS-->\n",
    "# Data can come in many forms, but machine learning models rely on four primary data types. \n",
    "# These include numerical data, categorical data, time series data, and text data.\n",
    "\n",
    "\n",
    "# 1. Numerical data or quantitative data:\n",
    "#     Example:-any form of measurable data such as your height, weight, or the cost of your phone bill.\n",
    "        \n",
    "# 2. Categorical data:\n",
    "#     Example:-his can include gender, social class, ethnicity, hometown, the industry you work in, or a variety of other labels\n",
    "        \n",
    "# 3. Time Series data:, \n",
    "#     Example:-Weather data, Rainfall measurements, etc.\n",
    "        \n",
    "# 4. Text data:\n",
    "#     Example:-Text data is simply words, sentences, or paragraphs that can provide some level of insight to your machine learning models.\n",
    "#         Library, databases, Social media, etc."
   ]
  },
  {
   "cell_type": "code",
   "execution_count": 3,
   "id": "f4cd000c",
   "metadata": {},
   "outputs": [],
   "source": [
    "# 3. Distinguish:\n",
    "\n",
    "# 1. Numeric vs. categorical attributes\n",
    "\n",
    "# 2. Feature selection vs. dimensionality reduction\n",
    "# ANS-->\n",
    "# Categorical data refers to a data type that can be stored and identified based on the names or labels given to them. \n",
    "# Numerical data refers to the data that is in the form of numbers, and not in any language or descriptive form.\n",
    "\n",
    "\n",
    "# While both methods are used for reducing the number of features in a dataset, there is an important difference. Feature selection is simply selecting and excluding given features without changing them. \n",
    "# Dimensionality reduction transforms features into a lower dimension."
   ]
  },
  {
   "cell_type": "code",
   "execution_count": 5,
   "id": "5fcb0146",
   "metadata": {},
   "outputs": [],
   "source": [
    "# 4. Make quick notes on any two of the following:\n",
    "\n",
    "# 1. The histogram\n",
    "\n",
    "# 2. Use a scatter plot\n",
    "\n",
    "# 3.PCA (Personal Computer Aid)\n",
    "# ANS-->\n",
    "# 1. Histograms group the data in bins and is the fastest way to get idea about the distribution of each attribute in dataset.\n",
    "# It provides us a count of the number of observations in each bin created for visualization.\n",
    "\n",
    "# From the shape of the bin, we can easily observe the distribution i.e. weather it is Gaussian, skewed or exponential.\n",
    "\n",
    "# Histograms also help us to see possible outliers.\n",
    "\n",
    "\n",
    "\n",
    "# 2. The scatter diagram graphs pairs of numerical data, with one variable on each axis, to look for a relationship between them. \n",
    "# If the variables are correlated, the points will fall along a line or curve. The better the correlation, the tighter the points will hug the line. \n",
    "# This cause analysis tool is considered one of the seven basic quality tools.\n",
    "# WHEN TO USE A SCATTER DIAGRAM\n",
    "# When you have paired numerical data\n",
    "# When your dependent variable may have multiple values for each value of your independent variable\n",
    "# When trying to determine whether the two variables are related, such as:\n",
    "# When trying to identify potential root causes of problems\n",
    "# After brainstorming causes and effects using a fishbone diagram to determine objectively whether a particular cause and effect are related\n",
    "# When determining whether two effects that appear to be related both occur with the same cause\n",
    "# When testing for autocorrelation before constructing a control chart"
   ]
  },
  {
   "cell_type": "code",
   "execution_count": 6,
   "id": "aa4f3f55",
   "metadata": {},
   "outputs": [],
   "source": [
    "# 5. Why is it necessary to investigate data? Is there a discrepancy in how qualitative and quantitative\n",
    "# data are explored?\n",
    "# ANS-->\n",
    "# By looking at data and data trends, we can make decisions based upon research rather than taking a guess and hoping for the bes\n",
    "# The combination of qualitative and quantitative data can also lead to clashes in the philosophical assumptions behind each approach and \n",
    "# therefore recommendations have been made for triangulation to be carried out from a pragmatic, or subtle realist, approach"
   ]
  },
  {
   "cell_type": "code",
   "execution_count": 7,
   "id": "080b31d0",
   "metadata": {},
   "outputs": [],
   "source": [
    "# 6. What are the various histogram shapes? What exactly are 'bins'?\n",
    "# ANS-->\n",
    "#     1. Bell-Shaped ·\n",
    "#     2. Uniform · \n",
    "#     3. Bimodal ·\n",
    "#     4. Multimodal ·\n",
    "#     5. Left Skewed · \n",
    "#     6. Right Skewed ·\n",
    "#     7. Random.\n",
    "# A histogram displays numerical data by grouping data into \"bins\" of equal width. \n",
    "# Each bin is plotted as a bar whose height corresponds to how many data points are in that bin.\n",
    "# Bins are also sometimes called \"intervals\", \"classes\", or \"buckets\"."
   ]
  },
  {
   "cell_type": "code",
   "execution_count": 10,
   "id": "7a67afed",
   "metadata": {},
   "outputs": [],
   "source": [
    "# 7. How do we deal with data outliers?\n",
    "# ANS-->\n",
    "# Remove All the outliers.\n",
    "# Replace Outliers Values with a suitable value"
   ]
  },
  {
   "cell_type": "code",
   "execution_count": 14,
   "id": "412fbb5b",
   "metadata": {},
   "outputs": [
    {
     "name": "stdout",
     "output_type": "stream",
     "text": [
      "Previous Shape With Outlier:  (156, 13)\n",
      "19.0 35.0\n",
      "16.0\n",
      "-5.0 59.0\n",
      "Shape After Removing Outliers: (156, 13)\n"
     ]
    },
    {
     "data": {
      "image/png": "[encoded data removed]",
      "text/plain": [
       "<Figure size 640x480 with 2 Axes>"
      ]
     },
     "metadata": {},
     "output_type": "display_data"
    }
   ],
   "source": [
    "df = pd.read_csv('titanic.csv')\n",
    "import numpy as np\n",
    "import matplotlib.pyplot as plt\n",
    "import warnings\n",
    "warnings.filterwarnings(\"ignore\")\n",
    "fig, axes = plt.subplots(1,2)\n",
    "plt.tight_layout()\n",
    "print(\"Previous Shape With Outlier: \",df.shape)\n",
    "sns.boxplot(df['Age'],orient='v',ax=axes[0])\n",
    "axes[0].title.set_text(\"Before\")\n",
    "########### HANDLING OUTLIER ######\n",
    "Q1 = df.Age.quantile(0.25)\n",
    "Q3 = df.Age.quantile(0.75)\n",
    "print(Q1,Q3)\n",
    "IQR = Q3-Q1\n",
    "print(IQR)\n",
    "lower_limit = Q1 - 1.5*IQR\n",
    "upper_limit = Q3 + 1.5*IQR\n",
    "print(lower_limit,upper_limit)\n",
    "df2 = df\n",
    "df2['Age'] = np.where(df2['Age']>upper_limit,upper_limit,df2['Age'])\n",
    "df2['Age'] = np.where(df2['Age']<lower_limit,lower_limit,df2['Age'])\n",
    "print(\"Shape After Removing Outliers:\", df2.shape)\n",
    "sns.boxplot(df2['Age'],orient='v',ax=axes[1])\n",
    "axes[1].title.set_text(\"After\")\n",
    "plt.show()"
   ]
  },
  {
   "cell_type": "code",
   "execution_count": 15,
   "id": "fb49ca5b",
   "metadata": {},
   "outputs": [
    {
     "name": "stdout",
     "output_type": "stream",
     "text": [
      "Before Shape: (156, 13)\n",
      "After Shape: (112, 13)\n"
     ]
    },
    {
     "data": {
      "image/png": "[encoded data removed]",
      "text/plain": [
       "<Figure size 640x480 with 2 Axes>"
      ]
     },
     "metadata": {},
     "output_type": "display_data"
    }
   ],
   "source": [
    "import matplotlib.pyplot as plt\n",
    "import seaborn as sns\n",
    "import warnings\n",
    "import pandas as pd\n",
    "warnings.filterwarnings(\"ignore\")\n",
    "fig, axes = plt.subplots(1,2)\n",
    "plt.tight_layout()\n",
    "## DataFrame\n",
    "df = pd.read_csv('titanic.csv')\n",
    "print(\"Before Shape:\",df.shape)\n",
    "## Max and Min Quantile\n",
    "max_val = df.Age.quantile(0.95)\n",
    "min_val = df.Age.quantile(0.05)\n",
    "## Removing all the outliers\n",
    "df2 = df[(df['Age']>min_val) & (df['Age']<max_val)]\n",
    "## Visulization\n",
    "print(\"After Shape:\",df2.shape)\n",
    "sns.boxplot(df['Age'],orient='v',ax=axes[0])\n",
    "axes[0].title.set_text(\"Before\")\n",
    "sns.boxplot(df2['Age'],orient='v',ax=axes[1])\n",
    "axes[1].title.set_text(\"After\")\n",
    "plt.show()"
   ]
  },
  {
   "cell_type": "code",
   "execution_count": 16,
   "id": "3441a311",
   "metadata": {},
   "outputs": [],
   "source": [
    "# 8. What are the various central inclination measures? Why does mean vary too much from median in\n",
    "# certain data sets?\n",
    "# ANS-->\n",
    "# The three commonly used measures of central tendency are the mean, median, and mode\n",
    "# Again, the mean reflects the skewing the most. The mean is affected by outliers that do not influence the mean. Therefore, when the distribution of data is skewed to the left, the mean is often less than the median. \n",
    "# When the distribution is skewed to the right, the mean is often greater than the median.\n",
    "# The median is less affected by outliers and skewed data than the mean and is usually the preferred measure of central tendency when the distribution is not symmetrical."
   ]
  },
  {
   "cell_type": "code",
   "execution_count": 17,
   "id": "25a59f8b",
   "metadata": {},
   "outputs": [],
   "source": [
    "# 9. Describe how a scatter plot can be used to investigate bivariate relationships. Is it possible to find\n",
    "# outliers using a scatter plot?\n",
    "# ANS-->\n",
    "# A scatter plot is the graphic representation of the relationship between the two variables coming from a bivariate data set. \n",
    "# Think of them as the graphic representation of two data sets which have been put into place by dedicating each axis in the plot to a different variable."
   ]
  },
  {
   "cell_type": "code",
   "execution_count": 19,
   "id": "d5a52a9f",
   "metadata": {},
   "outputs": [
    {
     "data": {
      "image/png": "[encoded data removed]",
      "text/plain": [
       "<Figure size 1000x800 with 1 Axes>"
      ]
     },
     "metadata": {},
     "output_type": "display_data"
    }
   ],
   "source": [
    "x = range(50)\n",
    "y = range(50) + np.random.randint(0,30,50)\n",
    "plt.scatter(x, y)\n",
    "plt.rcParams.update({'figure.figsize':(10,8), 'figure.dpi':100})\n",
    "plt.title('Simple Scatter plot')\n",
    "plt.xlabel('X - value')\n",
    "plt.ylabel('Y - value')\n",
    "plt.show()"
   ]
  },
  {
   "cell_type": "code",
   "execution_count": 20,
   "id": "ca54175a",
   "metadata": {},
   "outputs": [],
   "source": [
    "# 10. Describe how cross-tabs can be used to figure out how two variables are related.\n",
    "# ANS-->\n",
    "# Cross tabulation is a method to quantitatively analyze the relationship between multiple variables. Also known as contingency tables or cross tabs, cross tabulation groups variables to understand the correlation between different variables. \n",
    "# It also shows how correlations change from one variable grouping to another."
   ]
  }
 ],
 "metadata": {
  "kernelspec": {
   "display_name": "Python 3 (ipykernel)",
   "language": "python",
   "name": "python3"
  },
  "language_info": {
   "codemirror_mode": {
    "name": "ipython",
    "version": 3
   },
   "file_extension": ".py",
   "mimetype": "text/x-python",
   "name": "python",
   "nbconvert_exporter": "python",
   "pygments_lexer": "ipython3",
   "version": "3.9.13"
  }
 },
 "nbformat": 4,
 "nbformat_minor": 5
}
