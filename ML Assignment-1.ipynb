{
 "cells": [
  {
   "cell_type": "code",
   "execution_count": 1,
   "id": "ed72fc1f",
   "metadata": {},
   "outputs": [],
   "source": [
    "# 1. What does one mean by the term \"machine learning\"?\n",
    "# ANS->\n",
    "# Machine learning is a branch of artificial intelligence (AI) and \n",
    "# computer science which focuses on the use of data and algorithms\n",
    "# to imitate the way that humans learn, gradually improving its accuracy."
   ]
  },
  {
   "cell_type": "code",
   "execution_count": 2,
   "id": "79e639ee",
   "metadata": {},
   "outputs": [],
   "source": [
    "# 2.Can you think of 4 distinct types of issues where it shines?\n",
    "# ANS->\n",
    "# Machine learning algorithms have had good results on problems such \n",
    "# has spam detection in email, cancer diagnosis, fraudulent credit \n",
    "# card transactions, and automatically driving vehicles"
   ]
  },
  {
   "cell_type": "code",
   "execution_count": 3,
   "id": "7614ab2c",
   "metadata": {},
   "outputs": [],
   "source": [
    "# 3.What is a labeled training set, and how does it work?\n",
    "# ANS->\n",
    "# A labeled training set is a collection of data where one of\n",
    "# the features of the data indicates the class the training example \n",
    "# belongs to. A labeled training set is used in supervised learning\n",
    "# algorithms."
   ]
  },
  {
   "cell_type": "code",
   "execution_count": 4,
   "id": "4f2ce5a8",
   "metadata": {},
   "outputs": [],
   "source": [
    "# 4.What are the two most important tasks that are supervised?\n",
    "# ANS->\n",
    "# The two most common supervised learning tasks are regression and\n",
    "# classification. In a regression problem we our prediciton is a \n",
    "# scalar value. When we're trying to solve a classification problem,\n",
    "# our output is either 1 or 0."
   ]
  },
  {
   "cell_type": "code",
   "execution_count": 5,
   "id": "b5c2297b",
   "metadata": {},
   "outputs": [],
   "source": [
    "# 5.Can you think of four examples of unsupervised tasks?\n",
    "# ANS->\n",
    "# Common unsupervised tasks include clustering, visualization, \n",
    "# dimensionality reduction and association rule learning."
   ]
  },
  {
   "cell_type": "code",
   "execution_count": 6,
   "id": "39188a4d",
   "metadata": {},
   "outputs": [],
   "source": [
    "# 6.State the machine learning model that would be best to make a robot walk through various\n",
    "# unfamiliar terrains?\n",
    "# ANS->\n",
    "# I would use a reinforcement learning approach. Reinforcement learning is a system where an \"agent\" \n",
    "# observes the environment, selects and performs actions, then recieves a \n",
    "# reward or punishment based on the result of the action. Over time the \n",
    "# agent learns by itself what is the most productive strategy."
   ]
  },
  {
   "cell_type": "code",
   "execution_count": 7,
   "id": "fb4590a6",
   "metadata": {},
   "outputs": [],
   "source": [
    "# 7.Which algorithm will you use to divide your customers into different groups?\n",
    "# ANS->\n",
    "# I would use some sort of clustering algorithm that can find the decision boundaries in the groups automatically. \n",
    "# This is an unsupervised approach. However, if I already knew the categories of my customers, then I would choose a supervised approach and go with a classification algorithm."
   ]
  },
  {
   "cell_type": "code",
   "execution_count": 8,
   "id": "e0625168",
   "metadata": {},
   "outputs": [],
   "source": [
    "# 8.Will you consider the problem of spam detection to be a supervised or unsupervised learning\n",
    "# problem?\n",
    "# ANS->\n",
    "# I would frame it as a supervised learning problem because humans have a general idea about what \n",
    "# spam is and what it isn't. We can use this notion to create a labeled\n",
    "# dataset for an algorithm to learn from."
   ]
  },
  {
   "cell_type": "code",
   "execution_count": 10,
   "id": "2eb2cf0c",
   "metadata": {},
   "outputs": [],
   "source": [
    "# 9.What is the concept of an online learning system?\n",
    "# ANS->\n",
    "# An online learning system learns from new data on-the-fly. As a result, \n",
    "# the system is trained incrementally either by using one example at a \n",
    "# time or using a mini-batch approach. This keeps each learning step \n",
    "# cheap and memory efficient."
   ]
  },
  {
   "cell_type": "code",
   "execution_count": 11,
   "id": "4391b4c8",
   "metadata": {},
   "outputs": [],
   "source": [
    "# 10.What is out-of-core learning, and how does it differ from core learning?\n",
    "# ANS->\n",
    "# It is a way to train your model on data that cannot fit your core memory.\n",
    "# ” Out-of-core learning refers to the machine learning algorithms working\n",
    "# with data that cannot fit into a single machine's memory but can easily \n",
    "# fit into some data storage,such as a local hard disk or web repository."
   ]
  },
  {
   "cell_type": "code",
   "execution_count": 12,
   "id": "861cb1e5",
   "metadata": {},
   "outputs": [],
   "source": [
    "# 11.What kind of learning algorithm makes predictions using a similarity measure?\n",
    "# ANS->\n",
    "# Instance-based learning algorithms use a measure of similarity to \n",
    "# generalize to new cases. In an instance-based learning system, the \n",
    "# algorithm learns the examples by heart, then uses the similarity measure\n",
    "# to generalize."
   ]
  },
  {
   "cell_type": "code",
   "execution_count": 13,
   "id": "75da5b42",
   "metadata": {},
   "outputs": [],
   "source": [
    "# 12.What's the difference between a model parameter and a hyperparameter in a learning\n",
    "# algorithm?\n",
    "# ANS->\n",
    "# A hyperparameter is a parameter of the learning algorithm, not the model.\n",
    "# For example, in a simple linear regression problem our model is\n",
    "# parameterized by theta which is a vector of weights.\n",
    "# In order to find the best values for theta we have\n",
    "# a cost function which is run repeatedly by the\n",
    "# gradient descent algorithm. Gradient descent \n",
    "# has a hyperparameter called alpha which is the\n",
    "# learning rate of the algorithm."
   ]
  },
  {
   "cell_type": "code",
   "execution_count": 14,
   "id": "7013ff21",
   "metadata": {},
   "outputs": [],
   "source": [
    "# 13.What are the criteria that model-based learning algorithms look for? What is the most popular\n",
    "# method they use to achieve success? What method do they use to make predictions?\n",
    "# ANS->\n",
    "# The goal for a model-based algorithm is to be able to generalize to new examples. To do this,\n",
    "# model based algorithms search for optimal values for the model's \n",
    "# parameters, often called theta. This searching, or \"learning\",\n",
    "# is what machine learning is all about. Model-based system learn\n",
    "# by minimizing a cost function that measures how bad the system \n",
    "# is at making predicitons on new data, plus a penalty for model\n",
    "# complexity if the model is regularized. To make a prediction,\n",
    "# a new instance's features are fed into a hypothesis function\n",
    "# which uses the minimized theta found by repeatedly running the\n",
    "# cost function."
   ]
  },
  {
   "cell_type": "code",
   "execution_count": 15,
   "id": "9e4c584f",
   "metadata": {},
   "outputs": [],
   "source": [
    "# 14.Can you name four of the most important Machine Learning challenges?\n",
    "# ANS->\n",
    "# Not gathering enough data, or sampling noise. Sampling noise means we'll have non-representative data as a result of chance.\n",
    "\n",
    "# Using a dataset that is not representative of the cases you want to generalize to. This is called sampling bias. For example, if you want to train an algorithm with \"cat videos\", and all your videos are from YouTube, you're actually training an algorithm to learn about \"YouTube cat videos.\"\n",
    "\n",
    "# Your dataset is full of missing values, outliers, and noise (poor measurments).\n",
    "\n",
    "# The features in your dataset are irrelevant. Garbage in, garbage out.\n",
    "\n",
    "# Feature selection - choose the most relevant features from your dataset\n",
    "# Feature extraction - combine features in your dataset to generate a new, more useful feature\n",
    "# When your model performs well on the training data, but not on test data, you've over fit your model. Models that suffer from overfitting do not generalize well to new examples. Overfitting happens when the model is too complex relative to the amount and noisiness of the data.\n",
    "\n",
    "# Try simplyfying the model by reducing the number of features in the data or constraining the parameters by reducing the degrees of freedom.\n",
    "# Gather more training data.\n",
    "# Reduce noise in the training data by fixing errors and removing outliers.\n",
    "# When your model is too simple to learn the underlying structure of the data you've underfit your model.\n",
    "\n",
    "# Select a more powerful model with more parameters\n",
    "# Use feature engineering to feed better features to the model\n",
    "# Reduce the constraints of the model (increase degrees of freedom, reduce regularization parameter, etc.)"
   ]
  },
  {
   "cell_type": "code",
   "execution_count": 17,
   "id": "bab83d57",
   "metadata": {},
   "outputs": [],
   "source": [
    "# 15) If your model performs great on the training data but generalizes poorly to new instances, what is happening? Can you name 3 possible solutions?\n",
    "# ANS->\n",
    "# This is a case where the model is overfitting the training data. To couteract overfitting, we can reduce the complexity of the model by removing features\n",
    "# or constraining the parameters. We could gather more data. Finally \n",
    "# we can reduce noisiness in the data by fixing errors and removing \n",
    "# outliers."
   ]
  },
  {
   "cell_type": "code",
   "execution_count": 18,
   "id": "a9f8f172",
   "metadata": {},
   "outputs": [],
   "source": [
    "# 16.What exactly is a test set, and why would you need one?\n",
    "# ANS->\n",
    "# When we want to know how well our model generalizes to new cases we prefer to use a test set instead of actually deploying the system. To build the test set we split the training data (50-50, 60-40, 80-20 are common splits) into a training set and test set. Our model is training with the training set. Then we use the model to run predictions on the test set. Our error rate on the test set is called the generalization error or out-of-sample error. This error tells us how well our model performs on examples it has never seen before.\n",
    "\n",
    "# If the training error is low, but the generalization error is high, it means we're overfitting our model."
   ]
  },
  {
   "cell_type": "code",
   "execution_count": 20,
   "id": "fb74691c",
   "metadata": {},
   "outputs": [],
   "source": [
    "# 17.What is a validation set's purpose?\n",
    "# ANS->\n",
    "# Let's say we have a linear model and we want to perform some hyperparameter \n",
    "# tuning to reduce the generalization error. One way to do this 100 different\n",
    "# models with 100 different hyperparameter values using the training set and \n",
    "# finding the generalization error with the test set. You find the best hyperparameter \n",
    "# value gives you 5% generalization error.\n",
    "\n",
    "# So you launch the model into production and find you're seeing 15% \n",
    "# generalization error. This isn't going as expected. What happened?\n",
    "\n",
    "# The problem is that for each iteration of hyperparameter tuning, \n",
    "# you measured the generalization error then updated the model using \n",
    "# the same test set. In other words, your produced the best generalization \n",
    "# error for the test set. The test set no longer represents cases the\n",
    "# model hasn't seen before.\n",
    "\n",
    "# A common solution to this problem is to have a second holdout set\n",
    "# called the validation set. You train multiple models with various\n",
    "# hyperparameters using the training set, you select the model and \n",
    "# hyperparameters that perform best on the validation set, and when\n",
    "# you are happy about your model you run a single final test against \n",
    "# the test set to get an estimate of the generalization error."
   ]
  },
  {
   "cell_type": "code",
   "execution_count": 21,
   "id": "39b28eec",
   "metadata": {},
   "outputs": [],
   "source": [
    "# 18.What precisely is the train-dev kit, when will you need it, how do you put it to use?\n",
    "# ANS->\n",
    "# The goal of dev-set is to rank the models in term of their accuracy and\n",
    "# helps us decide which model to proceed further with. Using Dev set we \n",
    "# rank all our models in terms of their accuracy and pick the best \n",
    "# performing model."
   ]
  },
  {
   "cell_type": "code",
   "execution_count": 22,
   "id": "0a386519",
   "metadata": {},
   "outputs": [],
   "source": [
    "# 19.What could go wrong if you use the test set to tune hyperparameters?\n",
    "# ANS->\n",
    "# Your model will not be generalizable to new examples."
   ]
  }
 ],
 "metadata": {
  "kernelspec": {
   "display_name": "Python 3 (ipykernel)",
   "language": "python",
   "name": "python3"
  },
  "language_info": {
   "codemirror_mode": {
    "name": "ipython",
    "version": 3
   },
   "file_extension": ".py",
   "mimetype": "text/x-python",
   "name": "python",
   "nbconvert_exporter": "python",
   "pygments_lexer": "ipython3",
   "version": "3.9.13"
  }
 },
 "nbformat": 4,
 "nbformat_minor": 5
}
